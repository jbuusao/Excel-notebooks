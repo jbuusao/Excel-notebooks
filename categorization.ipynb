{
 "cells": [
  {
   "cell_type": "code",
   "execution_count": 6,
   "metadata": {},
   "outputs": [
    {
     "name": "stdout",
     "output_type": "stream",
     "text": [
      "Need to automate cert renewal ['Certificate renewal']\n"
     ]
    },
    {
     "ename": "AttributeError",
     "evalue": "'list' object has no attribute 'tolist'",
     "output_type": "error",
     "traceback": [
      "\u001b[0;31m---------------------------------------------------------------------------\u001b[0m",
      "\u001b[0;31mAttributeError\u001b[0m                            Traceback (most recent call last)",
      "\u001b[1;32m/Users/jbuusao/_Projects/_categorization/categorization.ipynb Cell 1\u001b[0m line \u001b[0;36m5\n\u001b[1;32m     <a href='vscode-notebook-cell:/Users/jbuusao/_Projects/_categorization/categorization.ipynb#W0sZmlsZQ%3D%3D?line=47'>48</a>\u001b[0m             df\u001b[39m.\u001b[39mloc[index, \u001b[39m\"\u001b[39m\u001b[39mCategory\u001b[39m\u001b[39m\"\u001b[39m] \u001b[39m=\u001b[39m [result]\n\u001b[1;32m     <a href='vscode-notebook-cell:/Users/jbuusao/_Projects/_categorization/categorization.ipynb#W0sZmlsZQ%3D%3D?line=48'>49</a>\u001b[0m         \u001b[39melse\u001b[39;00m:\n\u001b[0;32m---> <a href='vscode-notebook-cell:/Users/jbuusao/_Projects/_categorization/categorization.ipynb#W0sZmlsZQ%3D%3D?line=49'>50</a>\u001b[0m             df\u001b[39m.\u001b[39mloc[index, \u001b[39m\"\u001b[39m\u001b[39mCategory\u001b[39m\u001b[39m\"\u001b[39m] \u001b[39m=\u001b[39m result\u001b[39m.\u001b[39;49mtolist()\n\u001b[1;32m     <a href='vscode-notebook-cell:/Users/jbuusao/_Projects/_categorization/categorization.ipynb#W0sZmlsZQ%3D%3D?line=51'>52</a>\u001b[0m \u001b[39m# write the result to a new excel file\u001b[39;00m\n\u001b[1;32m     <a href='vscode-notebook-cell:/Users/jbuusao/_Projects/_categorization/categorization.ipynb#W0sZmlsZQ%3D%3D?line=52'>53</a>\u001b[0m df\u001b[39m.\u001b[39mto_excel(\u001b[39m\"\u001b[39m\u001b[39mresult.xlsx\u001b[39m\u001b[39m\"\u001b[39m)\n",
      "\u001b[0;31mAttributeError\u001b[0m: 'list' object has no attribute 'tolist'"
     ]
    }
   ],
   "source": [
    "import pandas as pd\n",
    "\n",
    "# Match all the terms in the given list, ignoring the order\n",
    "def match(text, list):\n",
    "    try:\n",
    "        for term in list:\n",
    "            text.index(term)\n",
    "        return True\n",
    "    except ValueError:\n",
    "        return False\n",
    "    \n",
    "    \n",
    "def regex(text, expr):\n",
    "    try:\n",
    "        if(text.index(expr) != -1):\n",
    "            return True\n",
    "    except ValueError:\n",
    "        return False\n",
    "    \n",
    "def evaluate(heuristic, text, result):\n",
    "    if(heuristic[0](text.lower(), heuristic[1])):\n",
    "        if(not heuristic[2] in result):\n",
    "            result.append(heuristic[2])\n",
    "\n",
    "df = pd.read_excel(\"data.xlsx\", sheet_name=\"MSS\", header=0)\n",
    "\n",
    "result = []\n",
    "heuristics = [\n",
    "    (match, [\"ci/cd\"],                  \"CI/CD\"),\n",
    "    (match, [\"pipeline\"],               \"CI/CD\"),\n",
    "    (match, [\"cert\", \"renew\"],          \"Certificate renewal\"),\n",
    "    (match, [\"certificate\", \"renew\"],   \"Certificate renewal\"),\n",
    "    (match, [\"auto\", \"testing\"],        \"Automated testing\"),\n",
    "    (match, [\"perf\", \"testing\"],        \"Performance testing\"),\n",
    "]\n",
    "\n",
    "# iterate through the rows of df, for each row, apply the heuristics to the column \"description\"\n",
    "# if a heuristic matches, add the corresponding value to the result list\n",
    "for index, row in df.iterrows():\n",
    "    result = []\n",
    "    for heuristic in heuristics:\n",
    "        evaluate(heuristic, row[\"Description\"], result)\n",
    "    if(len(result) != 0):\n",
    "        row[\"Category\"] = result\n",
    "        print(row[\"Description\"], result)\n",
    "        # Add the column category to that row\n",
    "        if(type(result) == str):\n",
    "            df.loc[index, \"Category\"] = [result]\n",
    "        else:\n",
    "            df.loc[index, \"Category\"] = ', '.join(result)\n",
    "\n",
    "# write the result to a new excel file\n",
    "df.to_excel(\"result.xlsx\")"
   ]
  },
  {
   "cell_type": "code",
   "execution_count": null,
   "metadata": {},
   "outputs": [],
   "source": []
  },
  {
   "cell_type": "code",
   "execution_count": 5,
   "metadata": {},
   "outputs": [
    {
     "data": {
      "text/plain": [
       "str"
      ]
     },
     "execution_count": 5,
     "metadata": {},
     "output_type": "execute_result"
    }
   ],
   "source": [
    "type(\"foo\")"
   ]
  },
  {
   "cell_type": "code",
   "execution_count": null,
   "metadata": {},
   "outputs": [],
   "source": []
  }
 ],
 "metadata": {
  "kernelspec": {
   "display_name": "base",
   "language": "python",
   "name": "python3"
  },
  "language_info": {
   "codemirror_mode": {
    "name": "ipython",
    "version": 3
   },
   "file_extension": ".py",
   "mimetype": "text/x-python",
   "name": "python",
   "nbconvert_exporter": "python",
   "pygments_lexer": "ipython3",
   "version": "3.10.9"
  }
 },
 "nbformat": 4,
 "nbformat_minor": 2
}
